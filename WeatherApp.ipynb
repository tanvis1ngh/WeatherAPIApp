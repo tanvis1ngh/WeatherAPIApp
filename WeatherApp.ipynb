{
 "cells": [
  {
   "cell_type": "code",
   "execution_count": 10,
   "metadata": {},
   "outputs": [
    {
     "name": "stdout",
     "output_type": "stream",
     "text": [
      "Defaulting to user installation because normal site-packages is not writeable\n",
      "Requirement already satisfied: requests in /Users/tanvi/Library/Python/3.9/lib/python/site-packages (2.32.4)\n",
      "Requirement already satisfied: charset_normalizer<4,>=2 in /Users/tanvi/Library/Python/3.9/lib/python/site-packages (from requests) (3.4.2)\n",
      "Requirement already satisfied: certifi>=2017.4.17 in /Users/tanvi/Library/Python/3.9/lib/python/site-packages (from requests) (2025.7.14)\n",
      "Requirement already satisfied: idna<4,>=2.5 in /Users/tanvi/Library/Python/3.9/lib/python/site-packages (from requests) (3.10)\n",
      "Requirement already satisfied: urllib3<3,>=1.21.1 in /Users/tanvi/Library/Python/3.9/lib/python/site-packages (from requests) (2.5.0)\n",
      "\u001b[33mWARNING: You are using pip version 21.2.4; however, version 25.1.1 is available.\n",
      "You should consider upgrading via the '/Library/Developer/CommandLineTools/usr/bin/python3 -m pip install --upgrade pip' command.\u001b[0m\n"
     ]
    }
   ],
   "source": [
    "import sys\n",
    "!{sys.executable} -m pip install requests\n"
   ]
  },
  {
   "cell_type": "code",
   "execution_count": null,
   "metadata": {},
   "outputs": [
    {
     "name": "stdout",
     "output_type": "stream",
     "text": [
      "{'coord': {'lon': 77.23, 'lat': 28.61}, 'weather': [{'id': 802, 'main': 'Clouds', 'description': 'scattered clouds', 'icon': '03d'}], 'base': 'stations', 'main': {'temp': 26.03, 'feels_like': 26.03, 'temp_min': 26.03, 'temp_max': 26.03, 'pressure': 997, 'humidity': 51, 'sea_level': 997, 'grnd_level': 972}, 'visibility': 10000, 'wind': {'speed': 5.78, 'deg': 173, 'gust': 7.78}, 'clouds': {'all': 39}, 'dt': 1752584168, 'sys': {'country': 'IN', 'sunrise': 1752537776, 'sunset': 1752587442}, 'timezone': 19800, 'id': 1261481, 'name': 'New Delhi', 'cod': 200}\n"
     ]
    }
   ],
   "source": [
    "import requests\n",
    "#Testing my API Key\n",
    "Base_url = \"https://api.openweathermap.org/data/2.5/weather\"\n",
    "params = {\n",
    "    \"lat\": 28.61,\n",
    "    \"lon\": 77.23,\n",
    "    \"units\": \"metric\",\n",
    "    \"appid\": \"9a06d2a6fb4e4b82c3d8e291f3e8bb8a\"\n",
    "}\n",
    "response = requests.get(Base_url, params=params)\n",
    "if response.status_code==200:\n",
    "    weater_data = response.json()\n",
    "    print(weater_data)\n",
    "else:\n",
    "    print(\"An error occured. Status code: \", response.status_code)\n"
   ]
  },
  {
   "cell_type": "code",
   "execution_count": null,
   "metadata": {},
   "outputs": [],
   "source": [
    "#Weather Info App Using OpenWeather Api\n",
    "\n",
    "Base_url = \"https://api.openweathermap.org/data/2.5/weather\"\n",
    "API_Key = \"9a06d2a6fb4e4b82c3d8e291f3e8bb8a\"\n",
    "\n",
    "# Setting my API base and key\n",
    "def get_weatherInfo(lat,long):\n",
    "    \"\"\"\n",
    "    Takes latitude and longitude and gets current weather data from the OpenWeatherMap API.\n",
    "\n",
    "    Args:\n",
    "        lat (float): Latitude of the place you're checking.\n",
    "        lon (float): Longitude of the place you're checking.\n",
    "\n",
    "    Returns:\n",
    "        dict: A dictionary with city name, temperature in Celsius, weather description,\n",
    "              humidity percentage, and wind speed — or None if something goes wrong.\n",
    "    \"\"\"\n",
    "    try:\n",
    "        url = f\"{Base_url}?lat={lat}&lon={long}&appid={API_Key}\"\n",
    "        response= requests.get(url)\n",
    "        if response.status_code==200:\n",
    "            data = response.json()\n",
    "            weather = {\n",
    "                \"city\": data.get(\"name\", \"Unknown\"),\n",
    "                \"temperature\": data[\"main\"][\"temp\"],\n",
    "                \"weather\": data[\"weather\"][0][\"description\"],\n",
    "                \"humidity\": data[\"main\"][\"humidity\"],\n",
    "                \"wind_speed\": data[\"wind\"][\"speed\"]\n",
    "            }\n",
    "            return weather\n",
    "        elif response.status_code==404:\n",
    "            print(\"Location not found\")\n",
    "        else:\n",
    "            print(\"An error occured. Status code: \", response.status_code)\n",
    "    except Exception as e:\n",
    "        print(f\"An error occured: {e}\")\n",
    "        return None\n"
   ]
  },
  {
   "cell_type": "code",
   "execution_count": null,
   "metadata": {},
   "outputs": [],
   "source": [
    "def display_weather_information(weather):\n",
    "    \"\"\"\n",
    "    Nicely prints out the weather information you got from the API.\n",
    "\n",
    "    Args:\n",
    "        weather (dict): The weather data dictionary returned from get_weatherInfo().\n",
    "    \"\"\"\n",
    "    print(\"\\n******* Weather Info *******\\n\")\n",
    "    for k,v in weather.items():\n",
    "        print(f\"{k}: {v}\")"
   ]
  },
  {
   "cell_type": "code",
   "execution_count": null,
   "metadata": {},
   "outputs": [],
   "source": [
    "def main():\n",
    "    \"\"\"\n",
    "    Runs the weather app.\n",
    "\n",
    "    Prompts the user to enter a location (latitude and longitude),\n",
    "    fetches the weather using the API, and prints the results.\n",
    "    \"\"\"\n",
    "    print(\" Weather App - OpenWeather API\\n\")\n",
    "    try:\n",
    "        lat = float(input(\"Enter latitude: \"))\n",
    "        lon = float(input(\"Enter longitude: \"))\n",
    "\n",
    "        weather = get_weatherInfo(lat, lon)\n",
    "        if weather:\n",
    "            display_weather_information(weather)\n",
    "        else:\n",
    "            print(\"No weather data available.\")\n",
    "\n",
    "    except ValueError:\n",
    "        print(\"Invalid input. Please enter numeric values for latitude and longitude.\")\n",
    "\n",
    "\n",
    "\n"
   ]
  },
  {
   "cell_type": "code",
   "execution_count": null,
   "metadata": {},
   "outputs": [],
   "source": [
    "if __name__ == \"__main__\":\n",
    "    main()"
   ]
  }
 ],
 "metadata": {
  "kernelspec": {
   "display_name": "Python 3",
   "language": "python",
   "name": "python3"
  },
  "language_info": {
   "codemirror_mode": {
    "name": "ipython",
    "version": 3
   },
   "file_extension": ".py",
   "mimetype": "text/x-python",
   "name": "python",
   "nbconvert_exporter": "python",
   "pygments_lexer": "ipython3",
   "version": "3.9.6"
  }
 },
 "nbformat": 4,
 "nbformat_minor": 2
}
